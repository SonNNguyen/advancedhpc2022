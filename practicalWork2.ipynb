{
  "nbformat": 4,
  "nbformat_minor": 0,
  "metadata": {
    "colab": {
      "provenance": []
    },
    "kernelspec": {
      "name": "python3",
      "display_name": "Python 3"
    },
    "language_info": {
      "name": "python"
    },
    "accelerator": "GPU",
    "gpuClass": "standard"
  },
  "cells": [
    {
      "cell_type": "code",
      "execution_count": 1,
      "metadata": {
        "colab": {
          "base_uri": "https://localhost:8080/"
        },
        "id": "LtwtMdwbawFt",
        "outputId": "1b78c553-4c5d-421d-f428-e47dac0c8fc9"
      },
      "outputs": [
        {
          "output_type": "stream",
          "name": "stdout",
          "text": [
            "Found 1 CUDA devices\n",
            "id 0             b'Tesla T4'                              [SUPPORTED]\n",
            "                      Compute Capability: 7.5\n",
            "                           PCI Device ID: 4\n",
            "                              PCI Bus ID: 0\n",
            "                                    UUID: GPU-863d6ff7-c1c4-6f48-2c73-075334cd5361\n",
            "                                Watchdog: Disabled\n",
            "             FP32/FP64 Performance Ratio: 32\n",
            "Summary:\n",
            "\t1/1 devices are supported\n"
          ]
        },
        {
          "output_type": "execute_result",
          "data": {
            "text/plain": [
              "True"
            ]
          },
          "metadata": {},
          "execution_count": 1
        }
      ],
      "source": [
        "import numba\n",
        "from numba import cuda\n",
        "cuda.detect()"
      ]
    },
    {
      "cell_type": "code",
      "source": [
        "cuda.select_device(0)"
      ],
      "metadata": {
        "colab": {
          "base_uri": "https://localhost:8080/"
        },
        "id": "sky72gGAjfSP",
        "outputId": "183315f8-9714-4e9f-b31d-3859a35e5db9"
      },
      "execution_count": 3,
      "outputs": [
        {
          "output_type": "execute_result",
          "data": {
            "text/plain": [
              "<weakproxy at 0x7fb5ef02fe00 to Device at 0x7fb5f09093a0>"
            ]
          },
          "metadata": {},
          "execution_count": 3
        }
      ]
    },
    {
      "cell_type": "code",
      "source": [
        "cuda.close()\n",
        "cuda.gpus"
      ],
      "metadata": {
        "colab": {
          "base_uri": "https://localhost:8080/"
        },
        "id": "RAO1Ry4ejog-",
        "outputId": "ad71a247-db28-48b1-804a-f14395eefc8b"
      },
      "execution_count": 6,
      "outputs": [
        {
          "output_type": "execute_result",
          "data": {
            "text/plain": [
              "<numba.cuda.cudadrv.devices._DeviceList at 0x7fb5ef085c40>"
            ]
          },
          "metadata": {},
          "execution_count": 6
        }
      ]
    },
    {
      "cell_type": "code",
      "source": [
        "#Device name\n",
        "cuda.close()\n",
        "con_ = cuda.get_current_device()\n",
        "cuda.gpus.current\n"
      ],
      "metadata": {
        "colab": {
          "base_uri": "https://localhost:8080/"
        },
        "id": "EGL0bgWsm0fo",
        "outputId": "b0b0d5d4-fd55-4550-966f-3d5f629e968d"
      },
      "execution_count": 21,
      "outputs": [
        {
          "output_type": "execute_result",
          "data": {
            "text/plain": [
              "<numba.cuda.cudadrv.devices._DeviceContextManager at 0x7fb5ef02c880>"
            ]
          },
          "metadata": {},
          "execution_count": 21
        }
      ]
    },
    {
      "cell_type": "code",
      "source": [
        "#Get memory size\n",
        "cuda.select_device(0)\n",
        "con_ = cuda.current_context()\n",
        "con_.get_memory_info()\n"
      ],
      "metadata": {
        "colab": {
          "base_uri": "https://localhost:8080/"
        },
        "id": "bVitscQHlvbU",
        "outputId": "e913a668-c2ff-48af-905e-1836507ac8f9"
      },
      "execution_count": 15,
      "outputs": [
        {
          "output_type": "execute_result",
          "data": {
            "text/plain": [
              "MemoryInfo(free=15736766464, total=15843721216)"
            ]
          },
          "metadata": {},
          "execution_count": 15
        }
      ]
    },
    {
      "cell_type": "code",
      "source": [
        "from numba.cuda.cudadrv import enums\n",
        "from numba import cuda\n",
        "import numpy as np\n",
        "device = cuda.get_current_device()\n",
        "attribs= [name.replace(\"CU_DEVICE_ATTRIBUTE_\", \"\") for name in dir(enums) if name.startswith(\"CU_DEVICE_ATTRIBUTE_\")]\n",
        "print(np.array(attribs))\n",
        "atrr_s = ['MULTIPROCESSOR_COUNT', 'TOTAL_CONSTANT_MEMORY', 'MAX_SHARED_MEMORY_PER_MULTIPROCESSOR']\n",
        "for attr in attribs:\n",
        "  if attr in atrr_s:\n",
        "    print(attr, '=', getattr(device, attr))"
      ],
      "metadata": {
        "colab": {
          "base_uri": "https://localhost:8080/"
        },
        "id": "M_9pjCx8m0FF",
        "outputId": "c1d4f8c6-172f-4d05-ee95-1cef34f8439f"
      },
      "execution_count": 27,
      "outputs": [
        {
          "output_type": "stream",
          "name": "stdout",
          "text": [
            "['ASYNC_ENGINE_COUNT' 'CAN_MAP_HOST_MEMORY'\n",
            " 'CAN_USE_HOST_POINTER_FOR_REGISTERED_MEM' 'CLOCK_RATE'\n",
            " 'COMPUTE_CAPABILITY_MAJOR' 'COMPUTE_CAPABILITY_MINOR' 'COMPUTE_MODE'\n",
            " 'COMPUTE_PREEMPTION_SUPPORTED' 'CONCURRENT_KERNELS'\n",
            " 'CONCURRENT_MANAGED_ACCESS' 'COOPERATIVE_LAUNCH'\n",
            " 'COOPERATIVE_MULTI_DEVICE_LAUNCH' 'ECC_ENABLED'\n",
            " 'GLOBAL_L1_CACHE_SUPPORTED' 'GLOBAL_MEMORY_BUS_WIDTH' 'GPU_OVERLAP'\n",
            " 'HOST_NATIVE_ATOMIC_SUPPORTED' 'INTEGRATED' 'IS_MULTI_GPU_BOARD'\n",
            " 'KERNEL_EXEC_TIMEOUT' 'L2_CACHE_SIZE' 'LOCAL_L1_CACHE_SUPPORTED'\n",
            " 'MANAGED_MEMORY' 'MAX_BLOCK_DIM_X' 'MAX_BLOCK_DIM_Y' 'MAX_BLOCK_DIM_Z'\n",
            " 'MAX_GRID_DIM_X' 'MAX_GRID_DIM_Y' 'MAX_GRID_DIM_Z'\n",
            " 'MAX_MAX_TEXTURE_2D_MIPMAPPED_HEIGHT' 'MAX_PITCH'\n",
            " 'MAX_REGISTERS_PER_BLOCK' 'MAX_REGISTERS_PER_MULTIPROCESSOR'\n",
            " 'MAX_SHARED_MEMORY_PER_BLOCK' 'MAX_SHARED_MEMORY_PER_BLOCK_OPTIN'\n",
            " 'MAX_SHARED_MEMORY_PER_MULTIPROCESSOR' 'MAX_SURFACE_1D_LAYERED_LAYERS'\n",
            " 'MAX_SURFACE_1D_LAYERED_WIDTH' 'MAX_SURFACE_1D_WIDTH'\n",
            " 'MAX_SURFACE_2D_HEIGHT' 'MAX_SURFACE_2D_LAYERED_HEIGHT'\n",
            " 'MAX_SURFACE_2D_LAYERED_LAYERS' 'MAX_SURFACE_2D_LAYERED_WIDTH'\n",
            " 'MAX_SURFACE_2D_WIDTH' 'MAX_SURFACE_3D_DEPTH' 'MAX_SURFACE_3D_HEIGHT'\n",
            " 'MAX_SURFACE_3D_WIDTH' 'MAX_SURFACE_CUBEMAP_LAYERED_LAYERS'\n",
            " 'MAX_SURFACE_CUBEMAP_LAYERED_WIDTH' 'MAX_SURFACE_CUBEMAP_WIDTH'\n",
            " 'MAX_TEXTURE_1D_LAYERED_LAYERS' 'MAX_TEXTURE_1D_LAYERED_WIDTH'\n",
            " 'MAX_TEXTURE_1D_LINEAR_WIDTH' 'MAX_TEXTURE_1D_MIPMAPPED_WIDTH'\n",
            " 'MAX_TEXTURE_1D_WIDTH' 'MAX_TEXTURE_2D_GATHER_HEIGHT'\n",
            " 'MAX_TEXTURE_2D_GATHER_WIDTH' 'MAX_TEXTURE_2D_HEIGHT'\n",
            " 'MAX_TEXTURE_2D_LAYERED_HEIGHT' 'MAX_TEXTURE_2D_LAYERED_LAYERS'\n",
            " 'MAX_TEXTURE_2D_LAYERED_WIDTH' 'MAX_TEXTURE_2D_LINEAR_HEIGHT'\n",
            " 'MAX_TEXTURE_2D_LINEAR_PITCH' 'MAX_TEXTURE_2D_LINEAR_WIDTH'\n",
            " 'MAX_TEXTURE_2D_MIPMAPPED_WIDTH' 'MAX_TEXTURE_2D_WIDTH'\n",
            " 'MAX_TEXTURE_3D_DEPTH' 'MAX_TEXTURE_3D_DEPTH_ALT' 'MAX_TEXTURE_3D_HEIGHT'\n",
            " 'MAX_TEXTURE_3D_HEIGHT_ALT' 'MAX_TEXTURE_3D_WIDTH'\n",
            " 'MAX_TEXTURE_3D_WIDTH_ALT' 'MAX_TEXTURE_CUBEMAP_LAYERED_LAYERS'\n",
            " 'MAX_TEXTURE_CUBEMAP_LAYERED_WIDTH' 'MAX_TEXTURE_CUBEMAP_WIDTH'\n",
            " 'MAX_THREADS_PER_BLOCK' 'MAX_THREADS_PER_MULTI_PROCESSOR'\n",
            " 'MEMORY_CLOCK_RATE' 'MULTIPROCESSOR_COUNT' 'MULTI_GPU_BOARD_GROUP_ID'\n",
            " 'PAGEABLE_MEMORY_ACCESS' 'PCI_BUS_ID' 'PCI_DEVICE_ID' 'PCI_DOMAIN_ID'\n",
            " 'SINGLE_TO_DOUBLE_PRECISION_PERF_RATIO' 'STREAM_PRIORITIES_SUPPORTED'\n",
            " 'SURFACE_ALIGNMENT' 'TCC_DRIVER' 'TEXTURE_ALIGNMENT'\n",
            " 'TEXTURE_PITCH_ALIGNMENT' 'TOTAL_CONSTANT_MEMORY' 'UNIFIED_ADDRESSING'\n",
            " 'WARP_SIZE']\n",
            "MAX_SHARED_MEMORY_PER_MULTIPROCESSOR = 65536\n",
            "MULTIPROCESSOR_COUNT = 40\n",
            "TOTAL_CONSTANT_MEMORY = 65536\n"
          ]
        }
      ]
    },
    {
      "cell_type": "code",
      "source": [
        "cc_cores_per_SM_dict = {\n",
        "    (2,0) : 32,\n",
        "    (2,1) : 48,\n",
        "    (3,0) : 192,\n",
        "    (3,5) : 192,\n",
        "    (3,7) : 192,\n",
        "    (5,0) : 128,\n",
        "    (5,2) : 128,\n",
        "    (6,0) : 64,\n",
        "    (6,1) : 128,\n",
        "    (7,0) : 64,\n",
        "    (7,5) : 64,\n",
        "    (8,0) : 64,\n",
        "    (8,6) : 128,\n",
        "    (8,9) : 128,\n",
        "    (9,0) : 128\n",
        "    }\n",
        "\n",
        "device = cuda.get_current_device()\n",
        "my_sms = getattr(device, 'MULTIPROCESSOR_COUNT')\n",
        "my_cc = device.compute_capability\n",
        "cores_per_sm = cc_cores_per_SM_dict.get(my_cc)\n",
        "total_cores = cores_per_sm*my_sms\n",
        "print(\"GPU compute capability: \" , my_cc)\n",
        "print(\"GPU total number of SMs: \" , my_sms)\n",
        "print(\"total cores: \" , total_cores)"
      ],
      "metadata": {
        "colab": {
          "base_uri": "https://localhost:8080/"
        },
        "id": "tkUcQAgxrH-z",
        "outputId": "3483eec3-eb6d-48a9-9482-84db241bb4d8"
      },
      "execution_count": 26,
      "outputs": [
        {
          "output_type": "stream",
          "name": "stdout",
          "text": [
            "GPU compute capability:  (7, 5)\n",
            "GPU total number of SMs:  40\n",
            "total cores:  2560\n"
          ]
        }
      ]
    }
  ]
}